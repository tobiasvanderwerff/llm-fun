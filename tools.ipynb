{
 "cells": [
  {
   "attachments": {},
   "cell_type": "markdown",
   "metadata": {},
   "source": [
    "Langchain allows you to hook up an LLM to various tools, which gives way to many interesting applications. See https://python.langchain.com/en/latest/modules/agents/tools/getting_started.html#list-of-tools for a list of supported tools."
   ]
  },
  {
   "cell_type": "code",
   "execution_count": 2,
   "metadata": {},
   "outputs": [],
   "source": [
    "%reload_ext autoreload\n",
    "%autoreload 2"
   ]
  },
  {
   "cell_type": "code",
   "execution_count": 3,
   "metadata": {},
   "outputs": [],
   "source": [
    "import os\n",
    "\n",
    "from dotenv import load_dotenv\n",
    "from langchain.agents import load_tools\n",
    "from langchain.agents import initialize_agent\n",
    "from langchain.agents import AgentType\n",
    "from langchain.llms import OpenAI"
   ]
  },
  {
   "cell_type": "code",
   "execution_count": 4,
   "metadata": {},
   "outputs": [],
   "source": [
    "# First, let's load the language model we're going to use to control the agent.\n",
    "llm = OpenAI(temperature=0)"
   ]
  },
  {
   "attachments": {},
   "cell_type": "markdown",
   "metadata": {},
   "source": [
    "## Wikipedia + calculator"
   ]
  },
  {
   "cell_type": "code",
   "execution_count": 6,
   "metadata": {},
   "outputs": [],
   "source": [
    "tools = load_tools([\"wikipedia\", \"llm-math\"], llm=llm)\n",
    "prompt = \"How much bigger (by what factor) is the population of Amsterdam compared to Utrecht?. Show your calculation.\""
   ]
  },
  {
   "cell_type": "code",
   "execution_count": 7,
   "metadata": {},
   "outputs": [
    {
     "name": "stdout",
     "output_type": "stream",
     "text": [
      "\n",
      "\n",
      "\u001b[1m> Entering new AgentExecutor chain...\u001b[0m\n",
      "\u001b[32;1m\u001b[1;3m I need to find the population of both cities.\n",
      "Action: Wikipedia\n",
      "Action Input: Population of Amsterdam\u001b[0m\n",
      "Observation: \u001b[36;1m\u001b[1;3mPage: Amsterdam\n",
      "Summary: Amsterdam ( AM-stər-dam, UK also  AM-stər-DAM, Dutch: [ˌɑmstərˈdɑm] (listen); lit. \"The Dam on the River Amstel\") is the capital and most populous city of the Netherlands, with The Hague being the seat of government. It has a population of 921,402 within the city proper, 1,457,018 in the urban area and 2,480,394 in the metropolitan area. Located in the Dutch province of North Holland, Amsterdam is colloquially referred to as the \"Venice of the North\", for its large number of canals, now designated a UNESCO World Heritage Site.Amsterdam was founded at the mouth of the Amstel River that was dammed to control flooding; the city's name derives from the a local linguistic variation of the word dam. Originally a small fishing village in the late 12th century, Amsterdam became a major world port during the Dutch Golden Age of the 17th century, when the Netherlands was an economic powerhouse. Amsterdam was the leading center for finance and trade, as well as a hub of production of secular art. In the 19th and 20th centuries, the city expanded and many new neighborhoods and suburbs were planned and built. The canals of Amsterdam and the 19-20th century Defence Line of Amsterdam are both on the UNESCO World Heritage List. Sloten, annexed in 1921 by the municipality of Amsterdam, is the oldest part of the city, dating to the 9th century. The city has a long tradition of openness, liberalism, and tolerance. Cycling is key to the city's modern character, and there are numerous biking paths and lanes spread throughout the entire city.Amsterdam's main attractions include its historic canals; the Rijksmuseumcode: nld promoted to code: nl , the state museum with a vast collection of Dutch Golden Age art; the Van Gogh Museum; the Dam Square, where the Royal Palace of Amsterdam and former city hall (stadhuiscode: nld promoted to code: nl ) are located; the Amsterdam Museum; Stedelijk Museum, with modern art; Hermitage Amsterdam, the Concertgebouwcode: nld promoted to code: nl  concert hall; the Anne Frank House; the Het Scheepvaartmuseumcode: nld promoted to code: nl , the Heineken Experience, the Natura Artis Magistracode: lat promoted to code: la ; Hortus Botanicus, NEMO, the red-light district and many cannabis coffee shops. The city is also well known for its nightlife and festival activity; with several of its nightclubs (Melkwegcode: nld promoted to code: nl , Paradiso) among the world's most famous. Primarily known for its artistic heritage, elaborate canal system and narrow canal houses with gabled façades; well-preserved legacies of the city's 17th-century Golden Age, and the establishment of the Van Gogh Museum, displaying the work of the famous Dutch modern artist, have attracted millions of visitors to Amsterdam annually.\n",
      "The Amsterdam Stock Exchange, founded in 1602, is considered the oldest \"modern\" securities market stock exchange in the world. As the commercial capital of the Netherlands and one of the top financial centres in Europe, Amsterdam is considered an alpha world city by the Globalization and World Cities Research Network. The city is also the cultural capital of the Netherlands. Many large Dutch institutions have their headquarters in the city, including: the Philips conglomerate, AkzoNobel, Booking.com, TomTom, and ING. Many of the world's largest companies are based in Amsterdam or have established their European headquarters in the city, such as leading technology companies Uber, Netflix and Tesla. In 2022, Amsterdam was ranked the ninth-best city in the world to live in by the Economist Intelligence Unit and 12th globally on quality of living for environment and infrastructure by Mercer. The city was ranked 4th place globally as top tech hub in the Savills Tech Cities 2019 report (2nd in Europe), and 3rd in innovation by Australian innovation agency 2thinknow in their Innovation Cities Index 2009. The Port of Amsterdam is the fifth largest in Europe. The KLM hub and Amsterdam's main airport\u001b[0m\n",
      "Thought:\u001b[32;1m\u001b[1;3m I need to find the population of Utrecht.\n",
      "Action: Wikipedia\n",
      "Action Input: Population of Utrecht\u001b[0m\n",
      "Observation: \u001b[36;1m\u001b[1;3mPage: Utrecht\n",
      "Summary: Utrecht ( YOO-trekt, Dutch: [ˈytrɛxt] (listen), Utrecht dialect: Utreg [ˈytʁɛχ]) is the fourth-largest city and a municipality of the Netherlands, capital and most populous city of the province of Utrecht. It is located in the eastern corner of the Randstad conurbation, in the very centre of mainland Netherlands. It has a population of 361,699 as of December 2021.Utrecht's ancient city centre features many buildings and structures, several dating as far back as the High Middle Ages. It has been the religious centre of the Netherlands since the 8th century. It was the most important city in the Northern Netherlands until the Dutch Golden Age, when it was surpassed by Amsterdam as the country's cultural centre and most populous city.\n",
      "Utrecht is home to Utrecht University, the largest university in the Netherlands, as well as several other institutions of higher education. Due to its central position within the country, it is an important hub for both rail and road transport; it has the busiest train station in the Netherlands, Utrecht Centraal. It has the second-highest number of cultural events in the Netherlands, after Amsterdam. In 2012, Lonely Planet included Utrecht in the top 10 of the world's unsung places.\n",
      "\n",
      "\n",
      "\n",
      "Page: Utrecht (province)\n",
      "Summary: Utrecht (Dutch pronunciation: [ˈytrɛxt] (listen)), officially the Province of Utrecht (Dutch: Provincie Utrecht), is a province of the Netherlands. It is located in the centre of the country, bordering the Eemmeer in the north-east, the province of Gelderland in the east and south-east, the province of South Holland in the west and south-west and the province of North Holland in the north-west and north. The province of Utrecht has a population of 1,353,596 as of November 2019. With a land area of approximately 1,485 square kilometres (573 sq mi), it is the smallest province in the country. Apart from its eponymous capital, major cities and towns in the province are Amersfoort, Houten, IJsselstein, Nieuwegein, Veenendaal and Zeist. The busiest railway station in the Netherlands, Utrecht Centraal, is located in the province of Utrecht.\n",
      "\n",
      "Page: Population of Canada\n",
      "Summary: Canada ranks 37th by population, comprising about 0.5% of the world's total, with over 39 million Canadians as of 2022. Being, however, the fourth-largest country by land area (second-largest by total area), the vast majority of the country is sparsely inhabited, with most of its population south of the 55th parallel north and just over 60 percent of Canadians live in just two provinces: Ontario and Quebec. Though Canada's population density is low, many regions in the south, such as the Quebec City–Windsor Corridor, have population densities higher than several European countries. Canada has six population centres with more than one million people: Toronto, Montreal, Vancouver, Calgary, Edmonton and Ottawa.\n",
      "The large size of Canada's north, which is not at present arable, and thus cannot support large human populations, significantly lowers the country's carrying capacity. In 2021, the population density of Canada was 4.2 people per square kilometre. As contrast, Russia's similar figure was 8.4 people per square kilometre.\n",
      "The historical growth of Canada's population is complex and has been influenced in many different ways, such as indigenous populations, expansion of territory, and human migration. Being a new world country, immigration has been, and remains, the most important factor in Canada's population growth. The 2021 Canadian census counted a total population of 36,991,981, an increase of around 5.2 percent over the 2016 figure. Between 1990 and 2008, the population increased by 5.6 million, equivalent to 20.4 percent overall growth.\u001b[0m\n",
      "Thought:\u001b[32;1m\u001b[1;3m I now know the population of both cities.\n",
      "Action: Calculator\n",
      "Action Input: 921,402/361,699\u001b[0m\n",
      "Observation: \u001b[33;1m\u001b[1;3mAnswer: 2.5474275571677003\u001b[0m\n",
      "Thought:"
     ]
    },
    {
     "name": "stderr",
     "output_type": "stream",
     "text": [
      "Retrying langchain.llms.openai.completion_with_retry.<locals>._completion_with_retry in 4.0 seconds as it raised RateLimitError: The server had an error while processing your request. Sorry about that!.\n"
     ]
    },
    {
     "name": "stdout",
     "output_type": "stream",
     "text": [
      "\u001b[32;1m\u001b[1;3m I now know the final answer.\n",
      "Final Answer: The population of Amsterdam is 2.5 times bigger than the population of Utrecht.\u001b[0m\n",
      "\n",
      "\u001b[1m> Finished chain.\u001b[0m\n"
     ]
    },
    {
     "data": {
      "text/plain": [
       "'The population of Amsterdam is 2.5 times bigger than the population of Utrecht.'"
      ]
     },
     "execution_count": 7,
     "metadata": {},
     "output_type": "execute_result"
    }
   ],
   "source": [
    "# Finally, let's initialize an agent with the tools, the language model, and the type of agent we want to use.\n",
    "agent = initialize_agent(tools, llm, agent=AgentType.ZERO_SHOT_REACT_DESCRIPTION, verbose=True)\n",
    "\n",
    "# Now let's test it out!\n",
    "agent.run(prompt)"
   ]
  },
  {
   "cell_type": "markdown",
   "metadata": {},
   "source": [
    "## TMDB movie search"
   ]
  },
  {
   "cell_type": "code",
   "execution_count": null,
   "metadata": {},
   "outputs": [],
   "source": [
    "load_dotenv(verbose=True)\n",
    "TMDB_BEARER_TOKEN = os.environ.get(\"TMDB_BEARER_TOKEN\")"
   ]
  },
  {
   "cell_type": "code",
   "execution_count": null,
   "metadata": {},
   "outputs": [],
   "source": [
    "# TMDB API\n",
    "tools = load_tools([\"tmdb-api\"], llm=llm, tmdb_bearer_token=TMDB_BEARER_TOKEN)\n",
    "prompt = \"What is The Imitation Game about?\""
   ]
  },
  {
   "cell_type": "code",
   "execution_count": null,
   "metadata": {},
   "outputs": [],
   "source": [
    "# Finally, let's initialize an agent with the tools, the language model, and the type of agent we want to use.\n",
    "agent = initialize_agent(tools, llm, agent=AgentType.ZERO_SHOT_REACT_DESCRIPTION, verbose=True)\n",
    "\n",
    "# Now let's test it out!\n",
    "agent.run(prompt)"
   ]
  },
  {
   "attachments": {},
   "cell_type": "markdown",
   "metadata": {},
   "source": [
    "### Idea: LLM movie recommendations\n",
    "\n",
    "Recommend movies to a user based on his preferences\n",
    "\n",
    "First ask the user a set of questions to get an idea of his preferences. It could go something like this:\n",
    "```\n",
    "Q: What genre do you prefer?\n",
    "    1) action\n",
    "    2) drama\n",
    "    3) comedy\n",
    "    4) don't care\n",
    "Q: Is there a specific theme you want to explore? Leave blank if you don't care\n",
    "**user input**\n",
    "Q: What is the minimum rating the movie should have (0-10)? Leave blank if you don't care\n",
    "**user input**\n",
    "Q: Is there a specific actor/actress you want to be in the movie? Leave blank if you don't care\n",
    "**user input**\n",
    "```\n",
    "\n",
    "Then use some sort of movie database (e.g. IMDB) to find the most relevant movies. \n",
    "\n",
    "EDIT: after thinking about it, I think this actually be more feasible by using something like the OpenAI embedding API. You could embed, let's say, the movie descriptions of all movies on IMDB with a rating higher than 7.0, and store those embeddings somewhere. Then, you could form a prompt based on the user's preferences (based on the answers provided by the user to the questions above), and simply use e.g. cosine similarity to find suitable matches based on the embeddings."
   ]
  }
 ],
 "metadata": {
  "kernelspec": {
   "display_name": "env",
   "language": "python",
   "name": "python3"
  },
  "language_info": {
   "codemirror_mode": {
    "name": "ipython",
    "version": 3
   },
   "file_extension": ".py",
   "mimetype": "text/x-python",
   "name": "python",
   "nbconvert_exporter": "python",
   "pygments_lexer": "ipython3",
   "version": "3.10.11"
  },
  "orig_nbformat": 4
 },
 "nbformat": 4,
 "nbformat_minor": 2
}
